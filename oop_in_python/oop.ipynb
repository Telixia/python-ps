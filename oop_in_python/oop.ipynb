{
 "cells": [
  {
   "cell_type": "code",
   "execution_count": 1,
   "metadata": {},
   "outputs": [
    {
     "data": {
      "application/javascript": [
       "\n",
       "            setTimeout(function() {\n",
       "                var nbb_cell_id = 1;\n",
       "                var nbb_unformatted_code = \"# code formatter \\n%load_ext nb_black\";\n",
       "                var nbb_formatted_code = \"# code formatter\\n%load_ext nb_black\";\n",
       "                var nbb_cells = Jupyter.notebook.get_cells();\n",
       "                for (var i = 0; i < nbb_cells.length; ++i) {\n",
       "                    if (nbb_cells[i].input_prompt_number == nbb_cell_id) {\n",
       "                        if (nbb_cells[i].get_text() == nbb_unformatted_code) {\n",
       "                             nbb_cells[i].set_text(nbb_formatted_code);\n",
       "                        }\n",
       "                        break;\n",
       "                    }\n",
       "                }\n",
       "            }, 500);\n",
       "            "
      ],
      "text/plain": [
       "<IPython.core.display.Javascript object>"
      ]
     },
     "metadata": {},
     "output_type": "display_data"
    }
   ],
   "source": [
    "# code formatter\n",
    "%load_ext nb_black"
   ]
  },
  {
   "cell_type": "code",
   "execution_count": 2,
   "metadata": {},
   "outputs": [
    {
     "data": {
      "application/javascript": [
       "\n",
       "            setTimeout(function() {\n",
       "                var nbb_cell_id = 2;\n",
       "                var nbb_unformatted_code = \"# instantiate a basic class\\n\\n\\nclass MyFirstClass:\\n    pass\";\n",
       "                var nbb_formatted_code = \"# instantiate a basic class\\n\\n\\nclass MyFirstClass:\\n    pass\";\n",
       "                var nbb_cells = Jupyter.notebook.get_cells();\n",
       "                for (var i = 0; i < nbb_cells.length; ++i) {\n",
       "                    if (nbb_cells[i].input_prompt_number == nbb_cell_id) {\n",
       "                        if (nbb_cells[i].get_text() == nbb_unformatted_code) {\n",
       "                             nbb_cells[i].set_text(nbb_formatted_code);\n",
       "                        }\n",
       "                        break;\n",
       "                    }\n",
       "                }\n",
       "            }, 500);\n",
       "            "
      ],
      "text/plain": [
       "<IPython.core.display.Javascript object>"
      ]
     },
     "metadata": {},
     "output_type": "display_data"
    }
   ],
   "source": [
    "# instantiate a basic class\n",
    "\n",
    "\n",
    "class MyFirstClass:\n",
    "    pass"
   ]
  },
  {
   "cell_type": "code",
   "execution_count": 3,
   "metadata": {},
   "outputs": [
    {
     "name": "stdout",
     "output_type": "stream",
     "text": [
      "<__main__.MyFirstClass object at 0x7fc99a945150>\n",
      "<__main__.MyFirstClass object at 0x7fc99a93ead0>\n"
     ]
    },
    {
     "data": {
      "application/javascript": [
       "\n",
       "            setTimeout(function() {\n",
       "                var nbb_cell_id = 3;\n",
       "                var nbb_unformatted_code = \"# initialize the class\\n\\nobj_1 = MyFirstClass()\\nobj_2 = MyFirstClass()\\n\\n# print the object locations in memory\\nprint(obj_1)\\nprint(obj_2)\";\n",
       "                var nbb_formatted_code = \"# initialize the class\\n\\nobj_1 = MyFirstClass()\\nobj_2 = MyFirstClass()\\n\\n# print the object locations in memory\\nprint(obj_1)\\nprint(obj_2)\";\n",
       "                var nbb_cells = Jupyter.notebook.get_cells();\n",
       "                for (var i = 0; i < nbb_cells.length; ++i) {\n",
       "                    if (nbb_cells[i].input_prompt_number == nbb_cell_id) {\n",
       "                        if (nbb_cells[i].get_text() == nbb_unformatted_code) {\n",
       "                             nbb_cells[i].set_text(nbb_formatted_code);\n",
       "                        }\n",
       "                        break;\n",
       "                    }\n",
       "                }\n",
       "            }, 500);\n",
       "            "
      ],
      "text/plain": [
       "<IPython.core.display.Javascript object>"
      ]
     },
     "metadata": {},
     "output_type": "display_data"
    }
   ],
   "source": [
    "# initialize the class\n",
    "\n",
    "obj_1 = MyFirstClass()\n",
    "obj_2 = MyFirstClass()\n",
    "\n",
    "# print the object locations in memory\n",
    "print(obj_1)\n",
    "print(obj_2)"
   ]
  },
  {
   "cell_type": "code",
   "execution_count": 4,
   "metadata": {},
   "outputs": [
    {
     "name": "stdout",
     "output_type": "stream",
     "text": [
      "5 4\n",
      "3 6\n"
     ]
    },
    {
     "data": {
      "application/javascript": [
       "\n",
       "            setTimeout(function() {\n",
       "                var nbb_cell_id = 4;\n",
       "                var nbb_unformatted_code = \"# attributes\\n\\n\\nclass Point:\\n    pass\\n\\n\\nif __name__ == \\\"__main__\\\":\\n    p1 = Point()\\n    p2 = Point()\\n\\n    p1.x = 5\\n    p1.y = 4\\n\\n    p2.x = 3\\n    p2.y = 6\\n\\n    print(p1.x, p1.y)\\n    print(p2.x, p2.y)\";\n",
       "                var nbb_formatted_code = \"# attributes\\n\\n\\nclass Point:\\n    pass\\n\\n\\nif __name__ == \\\"__main__\\\":\\n    p1 = Point()\\n    p2 = Point()\\n\\n    p1.x = 5\\n    p1.y = 4\\n\\n    p2.x = 3\\n    p2.y = 6\\n\\n    print(p1.x, p1.y)\\n    print(p2.x, p2.y)\";\n",
       "                var nbb_cells = Jupyter.notebook.get_cells();\n",
       "                for (var i = 0; i < nbb_cells.length; ++i) {\n",
       "                    if (nbb_cells[i].input_prompt_number == nbb_cell_id) {\n",
       "                        if (nbb_cells[i].get_text() == nbb_unformatted_code) {\n",
       "                             nbb_cells[i].set_text(nbb_formatted_code);\n",
       "                        }\n",
       "                        break;\n",
       "                    }\n",
       "                }\n",
       "            }, 500);\n",
       "            "
      ],
      "text/plain": [
       "<IPython.core.display.Javascript object>"
      ]
     },
     "metadata": {},
     "output_type": "display_data"
    }
   ],
   "source": [
    "# attributes\n",
    "\n",
    "\n",
    "class Point:\n",
    "    pass\n",
    "\n",
    "\n",
    "if __name__ == \"__main__\":\n",
    "    p1 = Point()\n",
    "    p2 = Point()\n",
    "\n",
    "    p1.x = 5\n",
    "    p1.y = 4\n",
    "\n",
    "    p2.x = 3\n",
    "    p2.y = 6\n",
    "\n",
    "    print(p1.x, p1.y)\n",
    "    print(p2.x, p2.y)"
   ]
  },
  {
   "cell_type": "code",
   "execution_count": 5,
   "metadata": {},
   "outputs": [
    {
     "name": "stdout",
     "output_type": "stream",
     "text": [
      "<__main__.Point object at 0x7fc99a9965d0>\n",
      "0\n",
      "0\n"
     ]
    },
    {
     "data": {
      "application/javascript": [
       "\n",
       "            setTimeout(function() {\n",
       "                var nbb_cell_id = 5;\n",
       "                var nbb_unformatted_code = \"\\\"\\\"\\\"\\nMethod declaration in class\\n\\\"\\\"\\\"\\n\\n\\nclass Point:\\n    # a method to reset values\\n    def reset(self):\\n        self.x = 0\\n        self.y = 0\\n\\n\\nif __name__ == \\\"__main__\\\":\\n    p = Point()\\n    p.reset()\\n    print(p)\\n    print(p.x)\\n    print(p.y)\\n\\n!yapf -ir .\";\n",
       "                var nbb_formatted_code = \"\\\"\\\"\\\"\\nMethod declaration in class\\n\\\"\\\"\\\"\\n\\n\\nclass Point:\\n    # a method to reset values\\n    def reset(self):\\n        self.x = 0\\n        self.y = 0\\n\\n\\nif __name__ == \\\"__main__\\\":\\n    p = Point()\\n    p.reset()\\n    print(p)\\n    print(p.x)\\n    print(p.y)\\n\\n!yapf -ir .\";\n",
       "                var nbb_cells = Jupyter.notebook.get_cells();\n",
       "                for (var i = 0; i < nbb_cells.length; ++i) {\n",
       "                    if (nbb_cells[i].input_prompt_number == nbb_cell_id) {\n",
       "                        if (nbb_cells[i].get_text() == nbb_unformatted_code) {\n",
       "                             nbb_cells[i].set_text(nbb_formatted_code);\n",
       "                        }\n",
       "                        break;\n",
       "                    }\n",
       "                }\n",
       "            }, 500);\n",
       "            "
      ],
      "text/plain": [
       "<IPython.core.display.Javascript object>"
      ]
     },
     "metadata": {},
     "output_type": "display_data"
    }
   ],
   "source": [
    "\"\"\"\n",
    "Method declaration in class\n",
    "\"\"\"\n",
    "\n",
    "\n",
    "class Point:\n",
    "    # a method to reset values\n",
    "    def reset(self):\n",
    "        self.x = 0\n",
    "        self.y = 0\n",
    "\n",
    "\n",
    "if __name__ == \"__main__\":\n",
    "    p = Point()\n",
    "    p.reset()\n",
    "    print(p)\n",
    "    print(p.x)\n",
    "    print(p.y)\n",
    "\n",
    "!yapf -ir ."
   ]
  },
  {
   "cell_type": "code",
   "execution_count": 6,
   "metadata": {},
   "outputs": [
    {
     "name": "stdout",
     "output_type": "stream",
     "text": [
      "0 0\n"
     ]
    },
    {
     "data": {
      "application/javascript": [
       "\n",
       "            setTimeout(function() {\n",
       "                var nbb_cell_id = 6;\n",
       "                var nbb_unformatted_code = \"\\\"\\\"\\\"\\nInvoking method statically\\n\\\"\\\"\\\"\\n\\nclass Point:\\n    def reset(self):\\n        self.x = 0\\n        self.y = 0\\n    \\nif __name__ == '__main__':\\n    p = Point()\\n    Point.reset(p)\\n    print(p.x, p.y)\\n        \";\n",
       "                var nbb_formatted_code = \"\\\"\\\"\\\"\\nInvoking method statically\\n\\\"\\\"\\\"\\n\\n\\nclass Point:\\n    def reset(self):\\n        self.x = 0\\n        self.y = 0\\n\\n\\nif __name__ == \\\"__main__\\\":\\n    p = Point()\\n    Point.reset(p)\\n    print(p.x, p.y)\";\n",
       "                var nbb_cells = Jupyter.notebook.get_cells();\n",
       "                for (var i = 0; i < nbb_cells.length; ++i) {\n",
       "                    if (nbb_cells[i].input_prompt_number == nbb_cell_id) {\n",
       "                        if (nbb_cells[i].get_text() == nbb_unformatted_code) {\n",
       "                             nbb_cells[i].set_text(nbb_formatted_code);\n",
       "                        }\n",
       "                        break;\n",
       "                    }\n",
       "                }\n",
       "            }, 500);\n",
       "            "
      ],
      "text/plain": [
       "<IPython.core.display.Javascript object>"
      ]
     },
     "metadata": {},
     "output_type": "display_data"
    }
   ],
   "source": [
    "\"\"\"\n",
    "Invoking method statically\n",
    "\"\"\"\n",
    "\n",
    "\n",
    "class Point:\n",
    "    def reset(self):\n",
    "        self.x = 0\n",
    "        self.y = 0\n",
    "\n",
    "\n",
    "if __name__ == \"__main__\":\n",
    "    p = Point()\n",
    "    Point.reset(p)\n",
    "    print(p.x, p.y)"
   ]
  },
  {
   "cell_type": "code",
   "execution_count": 8,
   "metadata": {},
   "outputs": [
    {
     "name": "stdout",
     "output_type": "stream",
     "text": [
      "0 0\n",
      "5.0\n",
      "4.47213595499958\n",
      "0.0\n"
     ]
    },
    {
     "data": {
      "application/javascript": [
       "\n",
       "            setTimeout(function() {\n",
       "                var nbb_cell_id = 8;\n",
       "                var nbb_unformatted_code = \"\\\"\\\"\\\"\\nMethods with arguments\\n\\\"\\\"\\\"\\n\\n\\nimport math\\n\\n\\nclass Point:\\n    def move(self, x, y):\\n        self.x = x\\n        self.y = y\\n\\n    def reset(self):\\n        self.move(0, 0)\\n\\n    def calculate_distance(self, other_point):\\n        return math.sqrt((self.x - other_point.x) ** 2 + (self.y - other_point.y) ** 2)\\n\\n\\nif __name__ == \\\"__main__\\\":\\n    p = Point()\\n    Point.reset(p)\\n    print(p.x, p.y)\\n    point1 = Point()\\n    point2 = Point()\\n\\n    point1.reset()\\n    point2.move(5, 0)\\n    print(point2.calculate_distance(point1))\\n    assert point2.calculate_distance(point1) == point1.calculate_distance(point2)\\n    point1.move(3, 4)\\n    print(point1.calculate_distance(point2))\\n    print(point1.calculate_distance(point1))\";\n",
       "                var nbb_formatted_code = \"\\\"\\\"\\\"\\nMethods with arguments\\n\\\"\\\"\\\"\\n\\n\\nimport math\\n\\n\\nclass Point:\\n    def move(self, x, y):\\n        self.x = x\\n        self.y = y\\n\\n    def reset(self):\\n        self.move(0, 0)\\n\\n    def calculate_distance(self, other_point):\\n        return math.sqrt((self.x - other_point.x) ** 2 + (self.y - other_point.y) ** 2)\\n\\n\\nif __name__ == \\\"__main__\\\":\\n    p = Point()\\n    Point.reset(p)\\n    print(p.x, p.y)\\n    point1 = Point()\\n    point2 = Point()\\n\\n    point1.reset()\\n    point2.move(5, 0)\\n    print(point2.calculate_distance(point1))\\n    assert point2.calculate_distance(point1) == point1.calculate_distance(point2)\\n    point1.move(3, 4)\\n    print(point1.calculate_distance(point2))\\n    print(point1.calculate_distance(point1))\";\n",
       "                var nbb_cells = Jupyter.notebook.get_cells();\n",
       "                for (var i = 0; i < nbb_cells.length; ++i) {\n",
       "                    if (nbb_cells[i].input_prompt_number == nbb_cell_id) {\n",
       "                        if (nbb_cells[i].get_text() == nbb_unformatted_code) {\n",
       "                             nbb_cells[i].set_text(nbb_formatted_code);\n",
       "                        }\n",
       "                        break;\n",
       "                    }\n",
       "                }\n",
       "            }, 500);\n",
       "            "
      ],
      "text/plain": [
       "<IPython.core.display.Javascript object>"
      ]
     },
     "metadata": {},
     "output_type": "display_data"
    }
   ],
   "source": [
    "\"\"\"\n",
    "Methods with arguments\n",
    "\"\"\"\n",
    "\n",
    "\n",
    "import math\n",
    "\n",
    "\n",
    "class Point:\n",
    "    def move(self, x, y):\n",
    "        self.x = x\n",
    "        self.y = y\n",
    "\n",
    "    def reset(self):\n",
    "        self.move(0, 0)\n",
    "\n",
    "    def calculate_distance(self, other_point):\n",
    "        return math.sqrt((self.x - other_point.x) ** 2 + (self.y - other_point.y) ** 2)\n",
    "\n",
    "\n",
    "if __name__ == \"__main__\":\n",
    "    p = Point()\n",
    "    Point.reset(p)\n",
    "    print(p.x, p.y)\n",
    "    point1 = Point()\n",
    "    point2 = Point()\n",
    "\n",
    "    point1.reset()\n",
    "    point2.move(5, 0)\n",
    "    print(point2.calculate_distance(point1))\n",
    "    assert point2.calculate_distance(point1) == point1.calculate_distance(point2)\n",
    "    point1.move(3, 4)\n",
    "    print(point1.calculate_distance(point2))\n",
    "    print(point1.calculate_distance(point1))"
   ]
  },
  {
   "cell_type": "code",
   "execution_count": null,
   "metadata": {},
   "outputs": [],
   "source": []
  },
  {
   "cell_type": "code",
   "execution_count": null,
   "metadata": {},
   "outputs": [],
   "source": []
  },
  {
   "cell_type": "code",
   "execution_count": null,
   "metadata": {},
   "outputs": [],
   "source": []
  },
  {
   "cell_type": "code",
   "execution_count": null,
   "metadata": {},
   "outputs": [],
   "source": []
  },
  {
   "cell_type": "code",
   "execution_count": null,
   "metadata": {},
   "outputs": [],
   "source": []
  }
 ],
 "metadata": {
  "kernelspec": {
   "display_name": "Python 3",
   "language": "python",
   "name": "python3"
  },
  "language_info": {
   "codemirror_mode": {
    "name": "ipython",
    "version": 3
   },
   "file_extension": ".py",
   "mimetype": "text/x-python",
   "name": "python",
   "nbconvert_exporter": "python",
   "pygments_lexer": "ipython3",
   "version": "3.7.7"
  }
 },
 "nbformat": 4,
 "nbformat_minor": 4
}
