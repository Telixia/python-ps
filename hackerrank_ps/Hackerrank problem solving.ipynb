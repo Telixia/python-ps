{
 "cells": [
  {
   "cell_type": "code",
   "execution_count": 30,
   "metadata": {},
   "outputs": [
    {
     "data": {
      "application/javascript": [
       "\n",
       "            setTimeout(function() {\n",
       "                var nbb_cell_id = 30;\n",
       "                var nbb_unformatted_code = \"%load_ext nb_black\";\n",
       "                var nbb_formatted_code = \"%load_ext nb_black\";\n",
       "                var nbb_cells = Jupyter.notebook.get_cells();\n",
       "                for (var i = 0; i < nbb_cells.length; ++i) {\n",
       "                    if (nbb_cells[i].input_prompt_number == nbb_cell_id) {\n",
       "                        if (nbb_cells[i].get_text() == nbb_unformatted_code) {\n",
       "                             nbb_cells[i].set_text(nbb_formatted_code);\n",
       "                        }\n",
       "                        break;\n",
       "                    }\n",
       "                }\n",
       "            }, 500);\n",
       "            "
      ],
      "text/plain": [
       "<IPython.core.display.Javascript object>"
      ]
     },
     "metadata": {},
     "output_type": "display_data"
    }
   ],
   "source": [
    "%load_ext nb_black"
   ]
  },
  {
   "cell_type": "markdown",
   "metadata": {},
   "source": [
    "## Sock merchant\n",
    "\n",
    "https://www.hackerrank.com/challenges/sock-merchant"
   ]
  },
  {
   "cell_type": "code",
   "execution_count": 32,
   "metadata": {},
   "outputs": [
    {
     "name": "stdout",
     "output_type": "stream",
     "text": [
      "3\n"
     ]
    },
    {
     "data": {
      "application/javascript": [
       "\n",
       "            setTimeout(function() {\n",
       "                var nbb_cell_id = 32;\n",
       "                var nbb_unformatted_code = \"from collections import Counter\\n\\n# n = int(input())\\n# c = Counter(map(int, input().split()))\\nans = 0\\n\\nfor x in c:\\n    ans += c[x] // 2\\n\\nprint(ans)\\n\\nn = 9\\nar = [10, 20, 20, 10, 10, 30, 50, 10, 20]\";\n",
       "                var nbb_formatted_code = \"from collections import Counter\\n\\n# n = int(input())\\n# c = Counter(map(int, input().split()))\\nans = 0\\n\\nfor x in c:\\n    ans += c[x] // 2\\n\\nprint(ans)\\n\\nn = 9\\nar = [10, 20, 20, 10, 10, 30, 50, 10, 20]\";\n",
       "                var nbb_cells = Jupyter.notebook.get_cells();\n",
       "                for (var i = 0; i < nbb_cells.length; ++i) {\n",
       "                    if (nbb_cells[i].input_prompt_number == nbb_cell_id) {\n",
       "                        if (nbb_cells[i].get_text() == nbb_unformatted_code) {\n",
       "                             nbb_cells[i].set_text(nbb_formatted_code);\n",
       "                        }\n",
       "                        break;\n",
       "                    }\n",
       "                }\n",
       "            }, 500);\n",
       "            "
      ],
      "text/plain": [
       "<IPython.core.display.Javascript object>"
      ]
     },
     "metadata": {},
     "output_type": "display_data"
    }
   ],
   "source": [
    "from collections import Counter\n",
    "\n",
    "# n = int(input())\n",
    "# c = Counter(map(int, input().split()))\n",
    "ans = 0\n",
    "\n",
    "for x in c:\n",
    "    ans += c[x] // 2\n",
    "\n",
    "print(ans)\n",
    "\n",
    "n = 9\n",
    "ar = [10, 20, 20, 10, 10, 30, 50, 10, 20]\n"
   ]
  },
  {
   "cell_type": "code",
   "execution_count": 33,
   "metadata": {},
   "outputs": [
    {
     "data": {
      "application/javascript": [
       "\n",
       "            setTimeout(function() {\n",
       "                var nbb_cell_id = 33;\n",
       "                var nbb_unformatted_code = \"from collections import Counter\";\n",
       "                var nbb_formatted_code = \"from collections import Counter\";\n",
       "                var nbb_cells = Jupyter.notebook.get_cells();\n",
       "                for (var i = 0; i < nbb_cells.length; ++i) {\n",
       "                    if (nbb_cells[i].input_prompt_number == nbb_cell_id) {\n",
       "                        if (nbb_cells[i].get_text() == nbb_unformatted_code) {\n",
       "                             nbb_cells[i].set_text(nbb_formatted_code);\n",
       "                        }\n",
       "                        break;\n",
       "                    }\n",
       "                }\n",
       "            }, 500);\n",
       "            "
      ],
      "text/plain": [
       "<IPython.core.display.Javascript object>"
      ]
     },
     "metadata": {},
     "output_type": "display_data"
    }
   ],
   "source": [
    "from collections import Counter"
   ]
  },
  {
   "cell_type": "code",
   "execution_count": 34,
   "metadata": {},
   "outputs": [
    {
     "name": "stdout",
     "output_type": "stream",
     "text": [
      "Counter({10: 2, 20: 1})\n"
     ]
    },
    {
     "data": {
      "application/javascript": [
       "\n",
       "            setTimeout(function() {\n",
       "                var nbb_cell_id = 34;\n",
       "                var nbb_unformatted_code = \"c = Counter([10, 20, 10])\\nprint(c)\";\n",
       "                var nbb_formatted_code = \"c = Counter([10, 20, 10])\\nprint(c)\";\n",
       "                var nbb_cells = Jupyter.notebook.get_cells();\n",
       "                for (var i = 0; i < nbb_cells.length; ++i) {\n",
       "                    if (nbb_cells[i].input_prompt_number == nbb_cell_id) {\n",
       "                        if (nbb_cells[i].get_text() == nbb_unformatted_code) {\n",
       "                             nbb_cells[i].set_text(nbb_formatted_code);\n",
       "                        }\n",
       "                        break;\n",
       "                    }\n",
       "                }\n",
       "            }, 500);\n",
       "            "
      ],
      "text/plain": [
       "<IPython.core.display.Javascript object>"
      ]
     },
     "metadata": {},
     "output_type": "display_data"
    }
   ],
   "source": [
    "c = Counter([10, 20, 10])\n",
    "print(c)"
   ]
  },
  {
   "cell_type": "code",
   "execution_count": 35,
   "metadata": {},
   "outputs": [
    {
     "name": "stdout",
     "output_type": "stream",
     "text": [
      "2\n",
      "1\n"
     ]
    },
    {
     "data": {
      "application/javascript": [
       "\n",
       "            setTimeout(function() {\n",
       "                var nbb_cell_id = 35;\n",
       "                var nbb_unformatted_code = \"for i in c:\\n    print(c[i])\";\n",
       "                var nbb_formatted_code = \"for i in c:\\n    print(c[i])\";\n",
       "                var nbb_cells = Jupyter.notebook.get_cells();\n",
       "                for (var i = 0; i < nbb_cells.length; ++i) {\n",
       "                    if (nbb_cells[i].input_prompt_number == nbb_cell_id) {\n",
       "                        if (nbb_cells[i].get_text() == nbb_unformatted_code) {\n",
       "                             nbb_cells[i].set_text(nbb_formatted_code);\n",
       "                        }\n",
       "                        break;\n",
       "                    }\n",
       "                }\n",
       "            }, 500);\n",
       "            "
      ],
      "text/plain": [
       "<IPython.core.display.Javascript object>"
      ]
     },
     "metadata": {},
     "output_type": "display_data"
    }
   ],
   "source": [
    "for i in c:\n",
    "    print(c[i])"
   ]
  },
  {
   "cell_type": "code",
   "execution_count": 36,
   "metadata": {},
   "outputs": [
    {
     "data": {
      "text/plain": [
       "0"
      ]
     },
     "execution_count": 36,
     "metadata": {},
     "output_type": "execute_result"
    },
    {
     "data": {
      "application/javascript": [
       "\n",
       "            setTimeout(function() {\n",
       "                var nbb_cell_id = 36;\n",
       "                var nbb_unformatted_code = \"1//2\";\n",
       "                var nbb_formatted_code = \"1 // 2\";\n",
       "                var nbb_cells = Jupyter.notebook.get_cells();\n",
       "                for (var i = 0; i < nbb_cells.length; ++i) {\n",
       "                    if (nbb_cells[i].input_prompt_number == nbb_cell_id) {\n",
       "                        if (nbb_cells[i].get_text() == nbb_unformatted_code) {\n",
       "                             nbb_cells[i].set_text(nbb_formatted_code);\n",
       "                        }\n",
       "                        break;\n",
       "                    }\n",
       "                }\n",
       "            }, 500);\n",
       "            "
      ],
      "text/plain": [
       "<IPython.core.display.Javascript object>"
      ]
     },
     "metadata": {},
     "output_type": "display_data"
    }
   ],
   "source": [
    "1 // 2"
   ]
  },
  {
   "cell_type": "code",
   "execution_count": 37,
   "metadata": {},
   "outputs": [
    {
     "name": "stdout",
     "output_type": "stream",
     "text": [
      "5\n",
      "10 20 10 20 30\n",
      "2\n"
     ]
    },
    {
     "data": {
      "application/javascript": [
       "\n",
       "            setTimeout(function() {\n",
       "                var nbb_cell_id = 37;\n",
       "                var nbb_unformatted_code = \"def sockMerchant(n, ar):\\n    ans = 0\\n    c = Counter(ar)\\n    for i in c:\\n        ans += c[i]//2\\n    return ans \\n\\n\\nn = int(input())\\nar = list(map(int, input().rstrip().split()))\\nprint(sockMerchant(n, ar))\";\n",
       "                var nbb_formatted_code = \"def sockMerchant(n, ar):\\n    ans = 0\\n    c = Counter(ar)\\n    for i in c:\\n        ans += c[i] // 2\\n    return ans\\n\\n\\nn = int(input())\\nar = list(map(int, input().rstrip().split()))\\nprint(sockMerchant(n, ar))\";\n",
       "                var nbb_cells = Jupyter.notebook.get_cells();\n",
       "                for (var i = 0; i < nbb_cells.length; ++i) {\n",
       "                    if (nbb_cells[i].input_prompt_number == nbb_cell_id) {\n",
       "                        if (nbb_cells[i].get_text() == nbb_unformatted_code) {\n",
       "                             nbb_cells[i].set_text(nbb_formatted_code);\n",
       "                        }\n",
       "                        break;\n",
       "                    }\n",
       "                }\n",
       "            }, 500);\n",
       "            "
      ],
      "text/plain": [
       "<IPython.core.display.Javascript object>"
      ]
     },
     "metadata": {},
     "output_type": "display_data"
    }
   ],
   "source": [
    "def sockMerchant(n, ar):\n",
    "    ans = 0\n",
    "    c = Counter(ar)\n",
    "    for i in c:\n",
    "        ans += c[i] // 2\n",
    "    return ans\n",
    "\n",
    "\n",
    "n = int(input())\n",
    "ar = list(map(int, input().rstrip().split()))\n",
    "print(sockMerchant(n, ar))"
   ]
  },
  {
   "cell_type": "markdown",
   "metadata": {},
   "source": [
    "## Drawing Book\n",
    "\n",
    "https://www.hackerrank.com/challenges/drawing-book"
   ]
  },
  {
   "cell_type": "code",
   "execution_count": 38,
   "metadata": {},
   "outputs": [
    {
     "data": {
      "text/plain": [
       "2"
      ]
     },
     "execution_count": 38,
     "metadata": {},
     "output_type": "execute_result"
    },
    {
     "data": {
      "application/javascript": [
       "\n",
       "            setTimeout(function() {\n",
       "                var nbb_cell_id = 38;\n",
       "                var nbb_unformatted_code = \"5//2\";\n",
       "                var nbb_formatted_code = \"5 // 2\";\n",
       "                var nbb_cells = Jupyter.notebook.get_cells();\n",
       "                for (var i = 0; i < nbb_cells.length; ++i) {\n",
       "                    if (nbb_cells[i].input_prompt_number == nbb_cell_id) {\n",
       "                        if (nbb_cells[i].get_text() == nbb_unformatted_code) {\n",
       "                             nbb_cells[i].set_text(nbb_formatted_code);\n",
       "                        }\n",
       "                        break;\n",
       "                    }\n",
       "                }\n",
       "            }, 500);\n",
       "            "
      ],
      "text/plain": [
       "<IPython.core.display.Javascript object>"
      ]
     },
     "metadata": {},
     "output_type": "display_data"
    }
   ],
   "source": [
    "5 // 2"
   ]
  },
  {
   "cell_type": "code",
   "execution_count": null,
   "metadata": {},
   "outputs": [],
   "source": []
  },
  {
   "cell_type": "code",
   "execution_count": 39,
   "metadata": {},
   "outputs": [
    {
     "data": {
      "text/plain": [
       "1"
      ]
     },
     "execution_count": 39,
     "metadata": {},
     "output_type": "execute_result"
    },
    {
     "data": {
      "application/javascript": [
       "\n",
       "            setTimeout(function() {\n",
       "                var nbb_cell_id = 39;\n",
       "                var nbb_unformatted_code = \"def pageCount(n, p):\\n    start = p//2 \\n    end = n//2 - p//2  \\n    return min(start, end)\\n\\npageCount(6, 5)\";\n",
       "                var nbb_formatted_code = \"def pageCount(n, p):\\n    start = p // 2\\n    end = n // 2 - p // 2\\n    return min(start, end)\\n\\n\\npageCount(6, 5)\";\n",
       "                var nbb_cells = Jupyter.notebook.get_cells();\n",
       "                for (var i = 0; i < nbb_cells.length; ++i) {\n",
       "                    if (nbb_cells[i].input_prompt_number == nbb_cell_id) {\n",
       "                        if (nbb_cells[i].get_text() == nbb_unformatted_code) {\n",
       "                             nbb_cells[i].set_text(nbb_formatted_code);\n",
       "                        }\n",
       "                        break;\n",
       "                    }\n",
       "                }\n",
       "            }, 500);\n",
       "            "
      ],
      "text/plain": [
       "<IPython.core.display.Javascript object>"
      ]
     },
     "metadata": {},
     "output_type": "display_data"
    }
   ],
   "source": [
    "def pageCount(n, p):\n",
    "    start = p // 2\n",
    "    end = n // 2 - p // 2\n",
    "    return min(start, end)\n",
    "\n",
    "\n",
    "pageCount(6, 5)"
   ]
  },
  {
   "cell_type": "markdown",
   "metadata": {},
   "source": [
    "## Counting Valleys\n",
    "https://www.hackerrank.com/challenges/counting-valleys/"
   ]
  },
  {
   "cell_type": "code",
   "execution_count": 40,
   "metadata": {},
   "outputs": [
    {
     "name": "stdout",
     "output_type": "stream",
     "text": [
      "7\n",
      "UUDDDUD\n"
     ]
    },
    {
     "data": {
      "text/plain": [
       "1"
      ]
     },
     "execution_count": 40,
     "metadata": {},
     "output_type": "execute_result"
    },
    {
     "data": {
      "application/javascript": [
       "\n",
       "            setTimeout(function() {\n",
       "                var nbb_cell_id = 40;\n",
       "                var nbb_unformatted_code = \"\\nimport sys\\n\\ndef counting_valleys(n, steps):\\n    sea_lavel = valley = 0\\n\\n    for step in steps:\\n        if step == 'U':\\n            sea_lavel += 1\\n        else:\\n            sea_lavel -= 1\\n        \\n        if step == 'U' and sea_lavel == 0:\\n            valley += 1\\n    \\n    return valley\\n\\nn = int(input())\\nsteps = input()\\n\\ncounting_valleys(n, steps)\";\n",
       "                var nbb_formatted_code = \"import sys\\n\\n\\ndef counting_valleys(n, steps):\\n    sea_lavel = valley = 0\\n\\n    for step in steps:\\n        if step == \\\"U\\\":\\n            sea_lavel += 1\\n        else:\\n            sea_lavel -= 1\\n\\n        if step == \\\"U\\\" and sea_lavel == 0:\\n            valley += 1\\n\\n    return valley\\n\\n\\nn = int(input())\\nsteps = input()\\n\\ncounting_valleys(n, steps)\";\n",
       "                var nbb_cells = Jupyter.notebook.get_cells();\n",
       "                for (var i = 0; i < nbb_cells.length; ++i) {\n",
       "                    if (nbb_cells[i].input_prompt_number == nbb_cell_id) {\n",
       "                        if (nbb_cells[i].get_text() == nbb_unformatted_code) {\n",
       "                             nbb_cells[i].set_text(nbb_formatted_code);\n",
       "                        }\n",
       "                        break;\n",
       "                    }\n",
       "                }\n",
       "            }, 500);\n",
       "            "
      ],
      "text/plain": [
       "<IPython.core.display.Javascript object>"
      ]
     },
     "metadata": {},
     "output_type": "display_data"
    }
   ],
   "source": [
    "import sys\n",
    "\n",
    "\n",
    "def counting_valleys(n, steps):\n",
    "    sea_lavel = valley = 0\n",
    "\n",
    "    for step in steps:\n",
    "        if step == \"U\":\n",
    "            sea_lavel += 1\n",
    "        else:\n",
    "            sea_lavel -= 1\n",
    "\n",
    "        if step == \"U\" and sea_lavel == 0:\n",
    "            valley += 1\n",
    "\n",
    "    return valley\n",
    "\n",
    "\n",
    "n = int(input())\n",
    "steps = input()\n",
    "\n",
    "counting_valleys(n, steps)"
   ]
  },
  {
   "cell_type": "markdown",
   "metadata": {},
   "source": [
    "### Jumping on the Clouds\n",
    "https://www.hackerrank.com/challenges/jumping-on-the-clouds"
   ]
  },
  {
   "cell_type": "code",
   "execution_count": 42,
   "metadata": {},
   "outputs": [
    {
     "name": "stdout",
     "output_type": "stream",
     "text": [
      "7\n",
      "0 0 1 0 0 1 0\n",
      "4\n"
     ]
    },
    {
     "data": {
      "application/javascript": [
       "\n",
       "            setTimeout(function() {\n",
       "                var nbb_cell_id = 42;\n",
       "                var nbb_unformatted_code = \"def jumpingOnClouds(c):\\n    # 7\\n    # 0 0 1 0 0 1 0\\n    length = len(c)\\n    n_jumps = 0\\n    i = 0\\n    while i < length - 1:\\n        if i + 2 < length and c[i + 2] == 0:\\n            i = i + 2\\n            n_jumps += 1\\n        else:\\n            i = i + 1\\n            n_jumps += 1\\n    return n_jumps\\n\\n\\nif __name__ == \\\"__main__\\\":\\n    n = int(input())\\n    jumps = list(map(int, input().strip().split()))\\n    print(jumpingOnClouds(jumps))\";\n",
       "                var nbb_formatted_code = \"def jumpingOnClouds(c):\\n    # 7\\n    # 0 0 1 0 0 1 0\\n    length = len(c)\\n    n_jumps = 0\\n    i = 0\\n    while i < length - 1:\\n        if i + 2 < length and c[i + 2] == 0:\\n            i = i + 2\\n            n_jumps += 1\\n        else:\\n            i = i + 1\\n            n_jumps += 1\\n    return n_jumps\\n\\n\\nif __name__ == \\\"__main__\\\":\\n    n = int(input())\\n    jumps = list(map(int, input().strip().split()))\\n    print(jumpingOnClouds(jumps))\";\n",
       "                var nbb_cells = Jupyter.notebook.get_cells();\n",
       "                for (var i = 0; i < nbb_cells.length; ++i) {\n",
       "                    if (nbb_cells[i].input_prompt_number == nbb_cell_id) {\n",
       "                        if (nbb_cells[i].get_text() == nbb_unformatted_code) {\n",
       "                             nbb_cells[i].set_text(nbb_formatted_code);\n",
       "                        }\n",
       "                        break;\n",
       "                    }\n",
       "                }\n",
       "            }, 500);\n",
       "            "
      ],
      "text/plain": [
       "<IPython.core.display.Javascript object>"
      ]
     },
     "metadata": {},
     "output_type": "display_data"
    }
   ],
   "source": [
    "def jumpingOnClouds(c):\n",
    "    # 7\n",
    "    # 0 0 1 0 0 1 0\n",
    "    length = len(c)\n",
    "    n_jumps = 0\n",
    "    i = 0\n",
    "    while i < length - 1:\n",
    "        if i + 2 < length and c[i + 2] == 0:\n",
    "            i = i + 2\n",
    "            n_jumps += 1\n",
    "        else:\n",
    "            i = i + 1\n",
    "            n_jumps += 1\n",
    "    return n_jumps\n",
    "\n",
    "\n",
    "if __name__ == \"__main__\":\n",
    "    n = int(input())\n",
    "    jumps = list(map(int, input().strip().split()))\n",
    "    print(jumpingOnClouds(jumps))"
   ]
  },
  {
   "cell_type": "markdown",
   "metadata": {},
   "source": [
    "### Repeated String\n",
    "https://www.hackerrank.com/challenges/repeated-string"
   ]
  },
  {
   "cell_type": "code",
   "execution_count": 43,
   "metadata": {},
   "outputs": [
    {
     "name": "stdout",
     "output_type": "stream",
     "text": [
      "3\n"
     ]
    },
    {
     "data": {
      "application/javascript": [
       "\n",
       "            setTimeout(function() {\n",
       "                var nbb_cell_id = 43;\n",
       "                var nbb_unformatted_code = \"s = \\\"abcabca\\\"\\nprint(s.count(\\\"a\\\"))\";\n",
       "                var nbb_formatted_code = \"s = \\\"abcabca\\\"\\nprint(s.count(\\\"a\\\"))\";\n",
       "                var nbb_cells = Jupyter.notebook.get_cells();\n",
       "                for (var i = 0; i < nbb_cells.length; ++i) {\n",
       "                    if (nbb_cells[i].input_prompt_number == nbb_cell_id) {\n",
       "                        if (nbb_cells[i].get_text() == nbb_unformatted_code) {\n",
       "                             nbb_cells[i].set_text(nbb_formatted_code);\n",
       "                        }\n",
       "                        break;\n",
       "                    }\n",
       "                }\n",
       "            }, 500);\n",
       "            "
      ],
      "text/plain": [
       "<IPython.core.display.Javascript object>"
      ]
     },
     "metadata": {},
     "output_type": "display_data"
    }
   ],
   "source": [
    "s = \"abcabca\"\n",
    "print(s.count(\"a\"))"
   ]
  },
  {
   "cell_type": "code",
   "execution_count": 44,
   "metadata": {},
   "outputs": [
    {
     "name": "stdout",
     "output_type": "stream",
     "text": [
      "answer:  2.333\n",
      "absolute: 2\n",
      "remainder: 1\n"
     ]
    },
    {
     "data": {
      "application/javascript": [
       "\n",
       "            setTimeout(function() {\n",
       "                var nbb_cell_id = 44;\n",
       "                var nbb_unformatted_code = \"n = 7\\nL = 3\\n\\nprint(f\\\"answer: {n/L: .3f}\\\") \\nprint(f\\\"absolute: {n//L}\\\")\\nprint(f\\\"remainder: {n%L}\\\")\";\n",
       "                var nbb_formatted_code = \"n = 7\\nL = 3\\n\\nprint(f\\\"answer: {n/L: .3f}\\\")\\nprint(f\\\"absolute: {n//L}\\\")\\nprint(f\\\"remainder: {n%L}\\\")\";\n",
       "                var nbb_cells = Jupyter.notebook.get_cells();\n",
       "                for (var i = 0; i < nbb_cells.length; ++i) {\n",
       "                    if (nbb_cells[i].input_prompt_number == nbb_cell_id) {\n",
       "                        if (nbb_cells[i].get_text() == nbb_unformatted_code) {\n",
       "                             nbb_cells[i].set_text(nbb_formatted_code);\n",
       "                        }\n",
       "                        break;\n",
       "                    }\n",
       "                }\n",
       "            }, 500);\n",
       "            "
      ],
      "text/plain": [
       "<IPython.core.display.Javascript object>"
      ]
     },
     "metadata": {},
     "output_type": "display_data"
    }
   ],
   "source": [
    "n = 7\n",
    "L = 3\n",
    "\n",
    "print(f\"answer: {n/L: .3f}\") \n",
    "print(f\"absolute: {n//L}\")\n",
    "print(f\"remainder: {n%L}\")\n"
   ]
  },
  {
   "cell_type": "code",
   "execution_count": 45,
   "metadata": {},
   "outputs": [
    {
     "data": {
      "text/plain": [
       "'s'"
      ]
     },
     "execution_count": 45,
     "metadata": {},
     "output_type": "execute_result"
    },
    {
     "data": {
      "application/javascript": [
       "\n",
       "            setTimeout(function() {\n",
       "                var nbb_cell_id = 45;\n",
       "                var nbb_unformatted_code = \"s = 'sou'\\nn = 7\\n\\nL = len(s)\\nresult = n/L\\nremainder = n%L \\n\\ns[:remainder]\";\n",
       "                var nbb_formatted_code = \"s = \\\"sou\\\"\\nn = 7\\n\\nL = len(s)\\nresult = n / L\\nremainder = n % L\\n\\ns[:remainder]\";\n",
       "                var nbb_cells = Jupyter.notebook.get_cells();\n",
       "                for (var i = 0; i < nbb_cells.length; ++i) {\n",
       "                    if (nbb_cells[i].input_prompt_number == nbb_cell_id) {\n",
       "                        if (nbb_cells[i].get_text() == nbb_unformatted_code) {\n",
       "                             nbb_cells[i].set_text(nbb_formatted_code);\n",
       "                        }\n",
       "                        break;\n",
       "                    }\n",
       "                }\n",
       "            }, 500);\n",
       "            "
      ],
      "text/plain": [
       "<IPython.core.display.Javascript object>"
      ]
     },
     "metadata": {},
     "output_type": "display_data"
    }
   ],
   "source": [
    "s = \"sou\"\n",
    "n = 7\n",
    "\n",
    "L = len(s)\n",
    "result = n / L\n",
    "remainder = n % L\n",
    "\n",
    "s[:remainder]"
   ]
  },
  {
   "cell_type": "code",
   "execution_count": 46,
   "metadata": {},
   "outputs": [
    {
     "name": "stdout",
     "output_type": "stream",
     "text": [
      "abc\n",
      "9\n",
      "3\n"
     ]
    },
    {
     "data": {
      "application/javascript": [
       "\n",
       "            setTimeout(function() {\n",
       "                var nbb_cell_id = 46;\n",
       "                var nbb_unformatted_code = \"s = input()  # aba\\nn = int(input()) # 7\\n\\nL = len(s) \\nabs_quotient = n//L \\nremainder = n%L  \\n\\n# occurance of 'a' in the quotient  \\nsolid_ocr = abs_quotient * (s.count('a'))\\n# occurance of 'a' in the remainder\\nremainder_ocr = s[:remainder].count('a')\\n# add both together \\nfinal = solid_ocr + remainder_ocr\\n\\nprint(final) \";\n",
       "                var nbb_formatted_code = \"s = input()  # aba\\nn = int(input())  # 7\\n\\nL = len(s)\\nabs_quotient = n // L\\nremainder = n % L\\n\\n# occurance of 'a' in the quotient\\nsolid_ocr = abs_quotient * (s.count(\\\"a\\\"))\\n# occurance of 'a' in the remainder\\nremainder_ocr = s[:remainder].count(\\\"a\\\")\\n# add both together\\nfinal = solid_ocr + remainder_ocr\\n\\nprint(final)\";\n",
       "                var nbb_cells = Jupyter.notebook.get_cells();\n",
       "                for (var i = 0; i < nbb_cells.length; ++i) {\n",
       "                    if (nbb_cells[i].input_prompt_number == nbb_cell_id) {\n",
       "                        if (nbb_cells[i].get_text() == nbb_unformatted_code) {\n",
       "                             nbb_cells[i].set_text(nbb_formatted_code);\n",
       "                        }\n",
       "                        break;\n",
       "                    }\n",
       "                }\n",
       "            }, 500);\n",
       "            "
      ],
      "text/plain": [
       "<IPython.core.display.Javascript object>"
      ]
     },
     "metadata": {},
     "output_type": "display_data"
    }
   ],
   "source": [
    "s = input()  # aba\n",
    "n = int(input())  # 7\n",
    "\n",
    "L = len(s)\n",
    "abs_quotient = n // L\n",
    "remainder = n % L\n",
    "\n",
    "# occurance of 'a' in the quotient\n",
    "solid_ocr = abs_quotient * (s.count(\"a\"))\n",
    "# occurance of 'a' in the remainder\n",
    "remainder_ocr = s[:remainder].count(\"a\")\n",
    "# add both together\n",
    "final = solid_ocr + remainder_ocr\n",
    "\n",
    "print(final)"
   ]
  },
  {
   "cell_type": "code",
   "execution_count": null,
   "metadata": {},
   "outputs": [],
   "source": []
  },
  {
   "cell_type": "code",
   "execution_count": 47,
   "metadata": {},
   "outputs": [
    {
     "name": "stdout",
     "output_type": "stream",
     "text": [
      "aba\n",
      "9\n",
      "6\n"
     ]
    },
    {
     "data": {
      "application/javascript": [
       "\n",
       "            setTimeout(function() {\n",
       "                var nbb_cell_id = 47;\n",
       "                var nbb_unformatted_code = \"def repeatedString(s, n):\\n    len_of_string = len(s)\\n    n_letters = n \\n    quotient = n_letters//len_of_string\\n    remainder = n_letters%len_of_string \\n    \\n    # occurance of 'a' in the quotient  \\n    solid_ocr = quotient * (s.count('a'))\\n    # occurance of 'a' in the remainder\\n    remainder_ocr = s[:remainder].count('a')\\n    # add both together and find number of occurance \\n    n_occ = solid_ocr + remainder_ocr\\n    return n_occ \\n    \\n    \\n\\nif __name__ == \\\"__main__\\\":\\n    s = input() # abc \\n    n = int(input()) # 10\\n    print(repeatedString(s, n))\\n    \\n    \";\n",
       "                var nbb_formatted_code = \"def repeatedString(s, n):\\n    len_of_string = len(s)\\n    n_letters = n\\n    quotient = n_letters // len_of_string\\n    remainder = n_letters % len_of_string\\n\\n    # occurance of 'a' in the quotient\\n    solid_ocr = quotient * (s.count(\\\"a\\\"))\\n    # occurance of 'a' in the remainder\\n    remainder_ocr = s[:remainder].count(\\\"a\\\")\\n    # add both together and find number of occurance\\n    n_occ = solid_ocr + remainder_ocr\\n    return n_occ\\n\\n\\nif __name__ == \\\"__main__\\\":\\n    s = input()  # abc\\n    n = int(input())  # 10\\n    print(repeatedString(s, n))\";\n",
       "                var nbb_cells = Jupyter.notebook.get_cells();\n",
       "                for (var i = 0; i < nbb_cells.length; ++i) {\n",
       "                    if (nbb_cells[i].input_prompt_number == nbb_cell_id) {\n",
       "                        if (nbb_cells[i].get_text() == nbb_unformatted_code) {\n",
       "                             nbb_cells[i].set_text(nbb_formatted_code);\n",
       "                        }\n",
       "                        break;\n",
       "                    }\n",
       "                }\n",
       "            }, 500);\n",
       "            "
      ],
      "text/plain": [
       "<IPython.core.display.Javascript object>"
      ]
     },
     "metadata": {},
     "output_type": "display_data"
    }
   ],
   "source": [
    "def repeatedString(s, n):\n",
    "    len_of_string = len(s)\n",
    "    n_letters = n\n",
    "    quotient = n_letters // len_of_string\n",
    "    remainder = n_letters % len_of_string\n",
    "\n",
    "    # occurance of 'a' in the quotient\n",
    "    solid_ocr = quotient * (s.count(\"a\"))\n",
    "    # occurance of 'a' in the remainder\n",
    "    remainder_ocr = s[:remainder].count(\"a\")\n",
    "    # add both together and find number of occurance\n",
    "    n_occ = solid_ocr + remainder_ocr\n",
    "    return n_occ\n",
    "\n",
    "\n",
    "if __name__ == \"__main__\":\n",
    "    s = input()  # abc\n",
    "    n = int(input())  # 10\n",
    "    print(repeatedString(s, n))"
   ]
  },
  {
   "cell_type": "code",
   "execution_count": 1,
   "metadata": {},
   "outputs": [
    {
     "data": {
      "application/javascript": [
       "\n",
       "            setTimeout(function() {\n",
       "                var nbb_cell_id = 1;\n",
       "                var nbb_unformatted_code = \"%load_ext nb_black\";\n",
       "                var nbb_formatted_code = \"%load_ext nb_black\";\n",
       "                var nbb_cells = Jupyter.notebook.get_cells();\n",
       "                for (var i = 0; i < nbb_cells.length; ++i) {\n",
       "                    if (nbb_cells[i].input_prompt_number == nbb_cell_id) {\n",
       "                        if (nbb_cells[i].get_text() == nbb_unformatted_code) {\n",
       "                             nbb_cells[i].set_text(nbb_formatted_code);\n",
       "                        }\n",
       "                        break;\n",
       "                    }\n",
       "                }\n",
       "            }, 500);\n",
       "            "
      ],
      "text/plain": [
       "<IPython.core.display.Javascript object>"
      ]
     },
     "metadata": {},
     "output_type": "display_data"
    }
   ],
   "source": [
    "%load_ext nb_black"
   ]
  },
  {
   "cell_type": "markdown",
   "metadata": {},
   "source": [
    "### Arrays: Left Rotation\n",
    "https://www.hackerrank.com/challenges/ctci-array-left-rotation/"
   ]
  },
  {
   "cell_type": "code",
   "execution_count": 2,
   "metadata": {},
   "outputs": [
    {
     "name": "stdout",
     "output_type": "stream",
     "text": [
      "5 4\n",
      "1 2 3 4 5\n",
      "5 1 2 3 4\n"
     ]
    },
    {
     "data": {
      "application/javascript": [
       "\n",
       "            setTimeout(function() {\n",
       "                var nbb_cell_id = 2;\n",
       "                var nbb_unformatted_code = \"# a = array, d = the number of notations\\n# n = total input number\\n\\n\\ndef rotLeft(a, d):\\n    a = list(a)\\n    return a[d:] + a[:d]\\n\\n\\nif __name__ == \\\"__main__\\\":\\n    n, d = map(int, input().strip().split(\\\" \\\"))\\n    a = map(int, input().strip().split(\\\" \\\"))\\n    left_rotated_array = rotLeft(a, d)\\n    print(*left_rotated_array, sep=\\\" \\\")\";\n",
       "                var nbb_formatted_code = \"# a = array, d = the number of notations\\n# n = total input number\\n\\n\\ndef rotLeft(a, d):\\n    a = list(a)\\n    return a[d:] + a[:d]\\n\\n\\nif __name__ == \\\"__main__\\\":\\n    n, d = map(int, input().strip().split(\\\" \\\"))\\n    a = map(int, input().strip().split(\\\" \\\"))\\n    left_rotated_array = rotLeft(a, d)\\n    print(*left_rotated_array, sep=\\\" \\\")\";\n",
       "                var nbb_cells = Jupyter.notebook.get_cells();\n",
       "                for (var i = 0; i < nbb_cells.length; ++i) {\n",
       "                    if (nbb_cells[i].input_prompt_number == nbb_cell_id) {\n",
       "                        if (nbb_cells[i].get_text() == nbb_unformatted_code) {\n",
       "                             nbb_cells[i].set_text(nbb_formatted_code);\n",
       "                        }\n",
       "                        break;\n",
       "                    }\n",
       "                }\n",
       "            }, 500);\n",
       "            "
      ],
      "text/plain": [
       "<IPython.core.display.Javascript object>"
      ]
     },
     "metadata": {},
     "output_type": "display_data"
    }
   ],
   "source": [
    "# a = array, d = the number of notations\n",
    "# n = total input number\n",
    "\n",
    "\n",
    "def rotLeft(a, d):\n",
    "    a = list(a)\n",
    "    return a[d:] + a[:d]\n",
    "\n",
    "\n",
    "if __name__ == \"__main__\":\n",
    "    n, d = map(int, input().strip().split(\" \"))\n",
    "    a = map(int, input().strip().split(\" \"))\n",
    "    left_rotated_array = rotLeft(a, d)\n",
    "    print(*left_rotated_array, sep=\" \")"
   ]
  },
  {
   "cell_type": "markdown",
   "metadata": {},
   "source": [
    "### New Year Chaos\n",
    "https://www.hackerrank.com/challenges/new-year-chaos"
   ]
  },
  {
   "cell_type": "code",
   "execution_count": null,
   "metadata": {},
   "outputs": [],
   "source": []
  }
 ],
 "metadata": {
  "kernelspec": {
   "display_name": "Python 3",
   "language": "python",
   "name": "python3"
  },
  "language_info": {
   "codemirror_mode": {
    "name": "ipython",
    "version": 3
   },
   "file_extension": ".py",
   "mimetype": "text/x-python",
   "name": "python",
   "nbconvert_exporter": "python",
   "pygments_lexer": "ipython3",
   "version": "3.7.6"
  }
 },
 "nbformat": 4,
 "nbformat_minor": 4
}
