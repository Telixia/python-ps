{
 "cells": [
  {
   "cell_type": "markdown",
   "metadata": {},
   "source": [
    "## Valid Parentheses\n",
    "\n",
    "https://leetcode.com/problems/valid-parentheses/"
   ]
  },
  {
   "cell_type": "code",
   "execution_count": 1,
   "metadata": {},
   "outputs": [
    {
     "data": {
      "text/plain": [
       "{'(': ')', '{': '}', '[': ']'}"
      ]
     },
     "execution_count": 1,
     "metadata": {},
     "output_type": "execute_result"
    }
   ],
   "source": [
    "open_tup = tuple('({[') \n",
    "close_tup = tuple(')}]') \n",
    "\n",
    "map = dict(zip(open_tup, close_tup)) \n",
    "map"
   ]
  },
  {
   "cell_type": "code",
   "execution_count": 2,
   "metadata": {},
   "outputs": [
    {
     "name": "stdout",
     "output_type": "stream",
     "text": [
      "Unbalanced\n",
      "Unbalanced\n",
      "Balanced\n"
     ]
    }
   ],
   "source": [
    "queue = []\n",
    "\n",
    "expression = \"[]]]\" \n",
    "\n",
    "for exp in expression:\n",
    "    if exp in open_tup: \n",
    "        queue.append(map[exp]) \n",
    "    elif exp in close_tup:\n",
    "        if not queue or exp != queue.pop():\n",
    "            print(\"Unbalanced\")\n",
    "if not queue:\n",
    "    print(\"Balanced\") \n",
    "else:\n",
    "    print(\"Unbalanced\") "
   ]
  },
  {
   "cell_type": "code",
   "execution_count": 4,
   "metadata": {},
   "outputs": [
    {
     "data": {
      "text/plain": [
       "True"
      ]
     },
     "execution_count": 4,
     "metadata": {},
     "output_type": "execute_result"
    }
   ],
   "source": [
    "def isValid(s):\n",
    "    \"\"\"\n",
    "    :type s: str\n",
    "    :rtype: bool\n",
    "    \"\"\"\n",
    "    stack = []\n",
    "\n",
    "\n",
    "    open_p = [\"(\", \"{\", \"[\"]\n",
    "    close_p = [\")\", \"}\", \"]\"]\n",
    "\n",
    "    pairs = dict(zip(close_p, open_p))\n",
    "\n",
    "\n",
    "    for c in s:\n",
    "        if c in open_p:\n",
    "            stack.append(c)\n",
    "        elif(len(stack) == 0 or pairs[c] != stack.pop()):\n",
    "            return False\n",
    "\n",
    "    return stack == []\n",
    "\n",
    "isValid(\"\")"
   ]
  },
  {
   "cell_type": "code",
   "execution_count": 9,
   "metadata": {},
   "outputs": [
    {
     "name": "stdout",
     "output_type": "stream",
     "text": [
      ")\n",
      "}\n",
      "]\n"
     ]
    }
   ],
   "source": [
    "pairs = {\")\": \"(\",\n",
    "             \"}\": \"{\",\n",
    "             \"]\": \"[\"}\n",
    "\n",
    "for p in pairs:\n",
    "    print(p)"
   ]
  },
  {
   "cell_type": "code",
   "execution_count": 18,
   "metadata": {},
   "outputs": [
    {
     "data": {
      "text/plain": [
       "1"
      ]
     },
     "execution_count": 18,
     "metadata": {},
     "output_type": "execute_result"
    }
   ],
   "source": []
  },
  {
   "cell_type": "code",
   "execution_count": 16,
   "metadata": {},
   "outputs": [
    {
     "name": "stdout",
     "output_type": "stream",
     "text": [
      "{')': '(', '}': '{', ']': '['}\n",
      "(\n",
      "{\n",
      "[\n"
     ]
    }
   ],
   "source": [
    "open_p = [\"(\", \"{\", \"[\"]\n",
    "close_p = [\")\", \"}\", \"]\"]\n",
    "\n",
    "pair = dict(zip(close_p, open_p))\n",
    "print(pair)\n",
    "\n",
    "for p in pair:\n",
    "    print(pair[p])"
   ]
  },
  {
   "cell_type": "code",
   "execution_count": 24,
   "metadata": {},
   "outputs": [
    {
     "data": {
      "text/plain": [
       "[1, 2, 3]"
      ]
     },
     "execution_count": 24,
     "metadata": {},
     "output_type": "execute_result"
    }
   ],
   "source": [
    "stack"
   ]
  },
  {
   "cell_type": "markdown",
   "metadata": {},
   "source": [
    "### Longest Palindromic Substring\n",
    "https://leetcode.com/problems/longest-palindromic-substring/"
   ]
  },
  {
   "cell_type": "code",
   "execution_count": 22,
   "metadata": {},
   "outputs": [
    {
     "data": {
      "text/plain": [
       "'a'"
      ]
     },
     "execution_count": 22,
     "metadata": {},
     "output_type": "execute_result"
    }
   ],
   "source": [
    "def longestPalindrome(A):\n",
    "    rev = A[::-1]\n",
    "    l = len(A)\n",
    "    while l > 0:\n",
    "        for i in range(0, len(A) - l + 1):\n",
    "            half = int(l / 2)\n",
    "            left = A[i : i + half]\n",
    "            right = rev[len(A) - (i + l) : len(A) - (i + l - half)]\n",
    "            if left == right:\n",
    "                return A[i:i+l]\n",
    "        l -= 1\n",
    "    return None\n",
    "\n",
    "        \n",
    "\n",
    "longestPalindrome(\"a\")"
   ]
  },
  {
   "cell_type": "markdown",
   "metadata": {},
   "source": [
    "## Two Sum\n",
    "https://leetcode.com/problems/two-sum/"
   ]
  },
  {
   "cell_type": "code",
   "execution_count": 2,
   "metadata": {},
   "outputs": [
    {
     "name": "stdout",
     "output_type": "stream",
     "text": [
      "[1, 2]\n",
      "[3, 5]\n"
     ]
    }
   ],
   "source": [
    "nums = [2, 7, 11, 15, 21, 3]\n",
    "\n",
    "target = 18\n",
    "\n",
    "\n",
    "hash_table = {}\n",
    "\n",
    "for i in range(0, len(nums)):\n",
    "    for j in range(i+1, len(nums)):\n",
    "        if nums[i] + nums[j] == target:\n",
    "            print([i, j]) \n",
    "    "
   ]
  },
  {
   "cell_type": "code",
   "execution_count": 4,
   "metadata": {},
   "outputs": [
    {
     "name": "stdout",
     "output_type": "stream",
     "text": [
      "[1, 2]\n",
      "[3, 5]\n"
     ]
    }
   ],
   "source": [
    "nums = [2, 7, 11, 15, 21, 3]\n",
    "\n",
    "target = 18\n",
    "\n",
    "\n",
    "hash_table = {}\n",
    "\n",
    "for i in range(0, len(nums)):\n",
    "    complement = target - nums[i]\n",
    "    if complement in hash_table:\n",
    "        print([hash_table[complement], i])\n",
    "    hash_table[nums[i]] = i    "
   ]
  },
  {
   "cell_type": "markdown",
   "metadata": {},
   "source": [
    "## Valid Parenthesis"
   ]
  },
  {
   "cell_type": "markdown",
   "metadata": {},
   "source": [
    "## "
   ]
  },
  {
   "cell_type": "code",
   "execution_count": 15,
   "metadata": {},
   "outputs": [
    {
     "name": "stdout",
     "output_type": "stream",
     "text": [
      "True\n"
     ]
    }
   ],
   "source": [
    "def is_valid(s):  # {}{}] \n",
    "    stack = []\n",
    "    \n",
    "    open_p = [\"(\", \"{\", \"[\"]\n",
    "    \n",
    "    close_p = [\")\", \"}\", \"]\"]\n",
    "    pairs = dict(zip(close_p, open_p)) \n",
    "    \n",
    "    for c in s:\n",
    "        if c in open_p:\n",
    "            stack.append(c) \n",
    "        elif len(stack) == 0 or pairs[c] != stack.pop():\n",
    "            return False \n",
    "        \n",
    "    return stack == []\n",
    "\n",
    "\n",
    "\n",
    "print(is_valid(\"[{}]\"))    "
   ]
  },
  {
   "cell_type": "code",
   "execution_count": null,
   "metadata": {},
   "outputs": [],
   "source": []
  }
 ],
 "metadata": {
  "kernelspec": {
   "display_name": "Python 3",
   "language": "python",
   "name": "python3"
  },
  "language_info": {
   "codemirror_mode": {
    "name": "ipython",
    "version": 3
   },
   "file_extension": ".py",
   "mimetype": "text/x-python",
   "name": "python",
   "nbconvert_exporter": "python",
   "pygments_lexer": "ipython3",
   "version": "3.7.6"
  }
 },
 "nbformat": 4,
 "nbformat_minor": 4
}
